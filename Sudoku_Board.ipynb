{
  "nbformat": 4,
  "nbformat_minor": 0,
  "metadata": {
    "colab": {
      "provenance": []
    },
    "kernelspec": {
      "name": "python3",
      "display_name": "Python 3"
    },
    "language_info": {
      "name": "python"
    }
  },
  "cells": [
    {
      "cell_type": "code",
      "execution_count": 1,
      "metadata": {
        "id": "RxlIu5zlGZfU"
      },
      "outputs": [],
      "source": [
        "starr=['(1,2,3,4,5,6,7,8,1)',\n",
        "       '(x,x,x,x,x,x,x,x,x)',\n",
        "       '(x,x,x,x,x,x,x,x,x)',\n",
        "       '(x,x,x,x,x,x,x,x,x)',\n",
        "       '(1,x,x,x,x,x,x,x,x)',\n",
        "       '(x,x,x,x,x,x,x,x,x)',\n",
        "       '(x,x,x,x,x,x,x,x,x)',\n",
        "       '(x,x,x,x,x,x,x,x,x)',\n",
        "       '(x,x,x,x,x,x,x,x,x)',\n",
        "       ]\n"
      ]
    },
    {
      "cell_type": "code",
      "source": [
        "board=[list(row.strip('()').split(',')) for row in starr]\n",
        "board"
      ],
      "metadata": {
        "colab": {
          "base_uri": "https://localhost:8080/"
        },
        "id": "-LDVTJqtLoAH",
        "outputId": "a46d3a1a-fdf8-4d12-f638-69f24f76ef20"
      },
      "execution_count": 2,
      "outputs": [
        {
          "output_type": "execute_result",
          "data": {
            "text/plain": [
              "[['1', '2', '3', '4', '5', '6', '7', '8', '1'],\n",
              " ['x', 'x', 'x', 'x', 'x', 'x', 'x', 'x', 'x'],\n",
              " ['x', 'x', 'x', 'x', 'x', 'x', 'x', 'x', 'x'],\n",
              " ['x', 'x', 'x', 'x', 'x', 'x', 'x', 'x', 'x'],\n",
              " ['1', 'x', 'x', 'x', 'x', 'x', 'x', 'x', 'x'],\n",
              " ['x', 'x', 'x', 'x', 'x', 'x', 'x', 'x', 'x'],\n",
              " ['x', 'x', 'x', 'x', 'x', 'x', 'x', 'x', 'x'],\n",
              " ['x', 'x', 'x', 'x', 'x', 'x', 'x', 'x', 'x'],\n",
              " ['x', 'x', 'x', 'x', 'x', 'x', 'x', 'x', 'x']]"
            ]
          },
          "metadata": {},
          "execution_count": 2
        }
      ]
    },
    {
      "cell_type": "code",
      "source": [
        "results_row = []\n",
        "invalid_row_number=[]\n",
        "def check_rows(board):\n",
        "   # To store True/False for each row\n",
        "    for row in board:\n",
        "        # Filter out 'x' as it doesn't count in Sudoku checks\n",
        "        filtered_row = [el for el in row if el != 'x']\n",
        "        print(filtered_row)\n",
        "        for idx,value in enumerate(filtered_row[:-1]):\n",
        "          c=0\n",
        "          if filtered_row[c]==filtered_row[idx+1]:\n",
        "            print(f\"hi! {filtered_row[c]}\")\n",
        "            invalid_row_number.append(filtered_row[c])\n",
        "\n",
        "        # Check for duplicates\n",
        "        if len(filtered_row) != len(set(filtered_row)):\n",
        "\n",
        "            results_row.append(False)  # Row has duplicates\n",
        "        else:\n",
        "            results_row.append(True)  # Row is valid\n",
        "    return results_row\n",
        "print (check_rows(board))\n",
        "print(invalid_row_number)\n"
      ],
      "metadata": {
        "id": "nbawyrkgZKly",
        "colab": {
          "base_uri": "https://localhost:8080/"
        },
        "outputId": "809c6181-1843-4b64-899c-3d1e42974b53"
      },
      "execution_count": 3,
      "outputs": [
        {
          "output_type": "stream",
          "name": "stdout",
          "text": [
            "['1', '2', '3', '4', '5', '6', '7', '8', '1']\n",
            "hi! 1\n",
            "[]\n",
            "[]\n",
            "[]\n",
            "['1']\n",
            "[]\n",
            "[]\n",
            "[]\n",
            "[]\n",
            "[False, True, True, True, True, True, True, True, True]\n",
            "['1']\n"
          ]
        }
      ]
    },
    {
      "cell_type": "code",
      "source": [
        "for el in board:\n",
        "    print(el)\n",
        "results_col=[]\n",
        "invalid_col_number=[]\n",
        "def check_cols(board):\n",
        "\n",
        "  for i in range(9):\n",
        "    col=[row[i] for row in board]\n",
        "    filtered_col=[el for el in col if el!='x']\n",
        "    for idx,value in enumerate(filtered_col[:-1]):\n",
        "          c=0\n",
        "          if filtered_col[c]==filtered_col[idx+1]:\n",
        "            print(f\"hi! {filtered_col[c]}\")\n",
        "            invalid_col_number.append(filtered_col[c])\n",
        "    if len(filtered_col)!=len(set(filtered_col)):\n",
        "      results_col.append(False)\n",
        "    else:\n",
        "      results_col.append(True)\n",
        "  return results_col\n",
        "print(check_cols(board))\n",
        "print(invalid_col_number)"
      ],
      "metadata": {
        "id": "Vjc0XZmFns24",
        "colab": {
          "base_uri": "https://localhost:8080/"
        },
        "outputId": "de7cec2e-a993-4228-8bac-cb9ef8406e08"
      },
      "execution_count": 4,
      "outputs": [
        {
          "output_type": "stream",
          "name": "stdout",
          "text": [
            "['1', '2', '3', '4', '5', '6', '7', '8', '1']\n",
            "['x', 'x', 'x', 'x', 'x', 'x', 'x', 'x', 'x']\n",
            "['x', 'x', 'x', 'x', 'x', 'x', 'x', 'x', 'x']\n",
            "['x', 'x', 'x', 'x', 'x', 'x', 'x', 'x', 'x']\n",
            "['1', 'x', 'x', 'x', 'x', 'x', 'x', 'x', 'x']\n",
            "['x', 'x', 'x', 'x', 'x', 'x', 'x', 'x', 'x']\n",
            "['x', 'x', 'x', 'x', 'x', 'x', 'x', 'x', 'x']\n",
            "['x', 'x', 'x', 'x', 'x', 'x', 'x', 'x', 'x']\n",
            "['x', 'x', 'x', 'x', 'x', 'x', 'x', 'x', 'x']\n",
            "hi! 1\n",
            "[False, True, True, True, True, True, True, True, True]\n",
            "['1']\n"
          ]
        }
      ]
    },
    {
      "cell_type": "code",
      "source": [
        "from ast import Num\n",
        "#logic for 3 by 3 sub grid\n",
        "results_subgrid=[]\n",
        "sub_grids=[]\n",
        "\n",
        "for row_start in range(0,9,3):\n",
        "\n",
        "  for col in range(0,9,3):\n",
        "    sub_grid=[]\n",
        "    for row in range(row_start,row_start+3):\n",
        "\n",
        "      sub_grid.extend(board[row][col:col+3])\n",
        "    sub_grids.append(sub_grid)\n",
        "\n",
        "\n",
        "\n",
        "\n",
        "\n",
        "\n",
        "\n",
        "filtered_subgrids=[]\n",
        "# Print each subgrid in a separate list\n",
        "for idx, grid in enumerate(sub_grids, 1):\n",
        "    print(f\"Subgrid {idx}: {grid}\")\n",
        "    grid = [i for i in grid if i != 'x']\n",
        "    print(grid)\n",
        "    filtered_subgrids.append(grid)\n",
        "print(filtered_subgrids)\n",
        "\n",
        "\n",
        "for i in filtered_subgrids:\n",
        "  if len(i)!=len(set(i)):\n",
        "    results_subgrid.append(False)\n",
        "  else:\n",
        "    results_subgrid.append(True)\n",
        "\n",
        "print(results_subgrid)\n"
      ],
      "metadata": {
        "colab": {
          "base_uri": "https://localhost:8080/"
        },
        "id": "_RclnT4Numoh",
        "outputId": "209aeeb2-d7be-41d1-8325-841756991f56"
      },
      "execution_count": 7,
      "outputs": [
        {
          "output_type": "stream",
          "name": "stdout",
          "text": [
            "Subgrid 1: ['1', '2', '3', 'x', 'x', 'x', 'x', 'x', 'x']\n",
            "['1', '2', '3']\n",
            "Subgrid 2: ['4', '5', '6', 'x', 'x', 'x', 'x', 'x', 'x']\n",
            "['4', '5', '6']\n",
            "Subgrid 3: ['7', '8', '1', 'x', 'x', 'x', 'x', 'x', 'x']\n",
            "['7', '8', '1']\n",
            "Subgrid 4: ['x', 'x', 'x', '1', 'x', 'x', 'x', 'x', 'x']\n",
            "['1']\n",
            "Subgrid 5: ['x', 'x', 'x', 'x', 'x', 'x', 'x', 'x', 'x']\n",
            "[]\n",
            "Subgrid 6: ['x', 'x', 'x', 'x', 'x', 'x', 'x', 'x', 'x']\n",
            "[]\n",
            "Subgrid 7: ['x', 'x', 'x', 'x', 'x', 'x', 'x', 'x', 'x']\n",
            "[]\n",
            "Subgrid 8: ['x', 'x', 'x', 'x', 'x', 'x', 'x', 'x', 'x']\n",
            "[]\n",
            "Subgrid 9: ['x', 'x', 'x', 'x', 'x', 'x', 'x', 'x', 'x']\n",
            "[]\n",
            "[['1', '2', '3'], ['4', '5', '6'], ['7', '8', '1'], ['1'], [], [], [], [], []]\n",
            "[True, True, True, True, True, True, True, True, True]\n"
          ]
        }
      ]
    },
    {
      "cell_type": "code",
      "source": [],
      "metadata": {
        "id": "7WTmRRF0ITLd"
      },
      "execution_count": null,
      "outputs": []
    }
  ]
}